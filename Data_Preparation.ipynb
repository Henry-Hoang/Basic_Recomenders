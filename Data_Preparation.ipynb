{
 "cells": [
  {
   "cell_type": "markdown",
   "metadata": {
    "id": "xWT5gjm3D5mb"
   },
   "source": [
    "# Dataset: The Movie Database APIs"
   ]
  },
  {
   "cell_type": "markdown",
   "metadata": {
    "id": "UYQU7A-FD7kr"
   },
  },
  {
   "cell_type": "code",
   "execution_count": null,
   "metadata": {
    "colab": {
     "base_uri": "https://localhost:8080/"
    },
    "id": "lfpUunwiZvO8",
    "outputId": "f8a1ae08-4c05-4d52-a4eb-7081ad71743f"
   },
   "outputs": [
    {
     "name": "stdout",
     "output_type": "stream",
     "text": [
      "Collecting config\n",
      "  Downloading https://files.pythonhosted.org/packages/67/af/a7c8be986afee4cf277045cfdb06605296ff3f1a1de415d62c18a7a33040/config-0.5.0.post0-py2.py3-none-any.whl\n",
      "Installing collected packages: config\n",
      "Successfully installed config-0.5.0.post0\n"
     ]
    }
   ],
   "source": [
    "!pip install config\n",
    "import config # to hide TMDB API keys\n",
    "import requests # to make TMDB API calls\n",
    "import pandas as pd\n",
    "import matplotlib.pyplot as plt\n",
    "\n",
    "api_key = \"e7b8c40ebe9e3b6c8c081edc3aa5aacb\" # get TMDB API key from config.py file"
   ]
  },
  {
   "cell_type": "code",
   "execution_count": null,
   "metadata": {
    "colab": {
     "base_uri": "https://localhost:8080/"
    },
    "id": "rBjYB9m52l-j",
    "outputId": "efd025ee-6161-482d-f91b-28da44f69ee0"
   },
   "outputs": [
    {
     "name": "stdout",
     "output_type": "stream",
     "text": [
      "dict_keys(['adult', 'backdrop_path', 'belongs_to_collection', 'budget', 'genres', 'homepage', 'id', 'imdb_id', 'original_language', 'original_title', 'overview', 'popularity', 'poster_path', 'production_companies', 'production_countries', 'release_date', 'revenue', 'runtime', 'spoken_languages', 'status', 'tagline', 'title', 'video', 'vote_average', 'vote_count'])\n"
     ]
    }
   ],
   "source": [
    "# Use a simple example to find out what variables are there in each movie.\n",
    "example = requests.get('https://api.themoviedb.org/3/movie/862?api_key=' + api_key + '&language=en-US')\n",
    "example = example.json()\n",
    "columns = example.keys()\n",
    "print(columns)"
   ]
  },
  {
   "cell_type": "code",
   "execution_count": null,
   "metadata": {
    "colab": {
     "base_uri": "https://localhost:8080/",
     "height": 69
    },
    "id": "F24HmQUdZ00N",
    "outputId": "85db5834-3ff6-4bb6-e3c6-1f6adb422c90"
   },
   "outputs": [
    {
     "data": {
      "text/html": [
       "<div>\n",
       "<style scoped>\n",
       "    .dataframe tbody tr th:only-of-type {\n",
       "        vertical-align: middle;\n",
       "    }\n",
       "\n",
       "    .dataframe tbody tr th {\n",
       "        vertical-align: top;\n",
       "    }\n",
       "\n",
       "    .dataframe thead th {\n",
       "        text-align: right;\n",
       "    }\n",
       "</style>\n",
       "<table border=\"1\" class=\"dataframe\">\n",
       "  <thead>\n",
       "    <tr style=\"text-align: right;\">\n",
       "      <th></th>\n",
       "      <th>id</th>\n",
       "      <th>movieId</th>\n",
       "      <th>title</th>\n",
       "      <th>genres</th>\n",
       "      <th>overview</th>\n",
       "      <th>original_language</th>\n",
       "      <th>budget</th>\n",
       "      <th>popularity</th>\n",
       "      <th>production_companies</th>\n",
       "      <th>production_countries</th>\n",
       "      <th>revenue</th>\n",
       "      <th>runtime</th>\n",
       "      <th>vote_average</th>\n",
       "      <th>vote_count</th>\n",
       "    </tr>\n",
       "  </thead>\n",
       "  <tbody>\n",
       "  </tbody>\n",
       "</table>\n",
       "</div>"
      ],
      "text/plain": [
       "Empty DataFrame\n",
       "Columns: [id, movieId, title, genres, overview, original_language, budget, popularity, production_companies, production_countries, revenue, runtime, vote_average, vote_count]\n",
       "Index: []"
      ]
     },
     "execution_count": 3,
     "metadata": {
      "tags": []
     },
     "output_type": "execute_result"
    }
   ],
   "source": [
    "# Create a dataframe with the columns we want\n",
    "movies_data = pd.DataFrame(columns=['id','movieId','title','genres','overview','original_language','budget','popularity','production_companies','production_countries','revenue','runtime','vote_average','vote_count'])\n",
    "movies_data"
   ]
  },
  {
   "cell_type": "markdown",
   "metadata": {
    "id": "sjrq4OQngUyT"
   },
   "source": [
    "Use the `links` dataset from MovieLens to get the movies that are also in the `ratings` dataset for our collaborative approach."
   ]
  },
  {
   "cell_type": "code",
   "execution_count": null,
   "metadata": {
    "colab": {
     "base_uri": "https://localhost:8080/",
     "height": 221
    },
    "id": "zBMm8tDBcIAQ",
    "outputId": "b84054c6-21a6-4b3c-a2c8-30f1e3d9dca9"
   },
   "outputs": [
    {
     "name": "stdout",
     "output_type": "stream",
     "text": [
      "(27278, 3)\n"
     ]
    },
    {
     "data": {
      "text/html": [
       "<div>\n",
       "<style scoped>\n",
       "    .dataframe tbody tr th:only-of-type {\n",
       "        vertical-align: middle;\n",
       "    }\n",
       "\n",
       "    .dataframe tbody tr th {\n",
       "        vertical-align: top;\n",
       "    }\n",
       "\n",
       "    .dataframe thead th {\n",
       "        text-align: right;\n",
       "    }\n",
       "</style>\n",
       "<table border=\"1\" class=\"dataframe\">\n",
       "  <thead>\n",
       "    <tr style=\"text-align: right;\">\n",
       "      <th></th>\n",
       "      <th>movieId</th>\n",
       "      <th>imdbId</th>\n",
       "      <th>tmdbId</th>\n",
       "    </tr>\n",
       "  </thead>\n",
       "  <tbody>\n",
       "    <tr>\n",
       "      <th>0</th>\n",
       "      <td>1</td>\n",
       "      <td>114709</td>\n",
       "      <td>862.0</td>\n",
       "    </tr>\n",
       "    <tr>\n",
       "      <th>1</th>\n",
       "      <td>2</td>\n",
       "      <td>113497</td>\n",
       "      <td>8844.0</td>\n",
       "    </tr>\n",
       "    <tr>\n",
       "      <th>2</th>\n",
       "      <td>3</td>\n",
       "      <td>113228</td>\n",
       "      <td>15602.0</td>\n",
       "    </tr>\n",
       "    <tr>\n",
       "      <th>3</th>\n",
       "      <td>4</td>\n",
       "      <td>114885</td>\n",
       "      <td>31357.0</td>\n",
       "    </tr>\n",
       "    <tr>\n",
       "      <th>4</th>\n",
       "      <td>5</td>\n",
       "      <td>113041</td>\n",
       "      <td>11862.0</td>\n",
       "    </tr>\n",
       "  </tbody>\n",
       "</table>\n",
       "</div>"
      ],
      "text/plain": [
       "   movieId  imdbId   tmdbId\n",
       "0        1  114709    862.0\n",
       "1        2  113497   8844.0\n",
       "2        3  113228  15602.0\n",
       "3        4  114885  31357.0\n",
       "4        5  113041  11862.0"
      ]
     },
     "execution_count": 4,
     "metadata": {
      "tags": []
     },
     "output_type": "execute_result"
    }
   ],
   "source": [
    "links = pd.read_csv('links.csv')\n",
    "print(links.shape)\n",
    "links.head()"
   ]
  },
  {
   "cell_type": "code",
   "execution_count": null,
   "metadata": {
    "id": "uUN-KjSHbtCV"
   },
   "outputs": [],
   "source": [
    "for i in range(len(links)):\n",
    "  id = links.iloc[i, 2]\n",
    "  movie_response = requests.get('https://api.themoviedb.org/3/movie/'+ str(id) +'?api_key='+ api_key+'&language=en-US').json()\n",
    "  if \"status_code\" not in movie_response.keys():\n",
    "    movies_data.loc[len(movies_data)]=[movie_response['id'], links.iloc[i,0], movie_response['title'], movie_response['genres'], movie_response['overview'], movie_response['original_language'], movie_response['budget'], movie_response['popularity'], movie_response['production_companies'], movie_response['production_countries'], movie_response['revenue'], movie_response['runtime'], movie_response['vote_average'], movie_response['vote_count']]"
   ]
  },
  {
   "cell_type": "code",
   "execution_count": null,
   "metadata": {
    "colab": {
     "base_uri": "https://localhost:8080/",
     "height": 700
    },
    "id": "EwPng5p6cjYs",
    "outputId": "3f69c12c-945d-460a-a47a-6bc02761f8c5"
   },
   "outputs": [
    {
     "name": "stdout",
     "output_type": "stream",
     "text": [
      "Type:  <class 'pandas.core.frame.DataFrame'>\n",
      "Dim:  (26759, 14)\n"
     ]
    },
    {
     "data": {
      "text/html": [
       "<div>\n",
       "<style scoped>\n",
       "    .dataframe tbody tr th:only-of-type {\n",
       "        vertical-align: middle;\n",
       "    }\n",
       "\n",
       "    .dataframe tbody tr th {\n",
       "        vertical-align: top;\n",
       "    }\n",
       "\n",
       "    .dataframe thead th {\n",
       "        text-align: right;\n",
       "    }\n",
       "</style>\n",
       "<table border=\"1\" class=\"dataframe\">\n",
       "  <thead>\n",
       "    <tr style=\"text-align: right;\">\n",
       "      <th></th>\n",
       "      <th>id</th>\n",
       "      <th>movieId</th>\n",
       "      <th>title</th>\n",
       "      <th>genres</th>\n",
       "      <th>overview</th>\n",
       "      <th>original_language</th>\n",
       "      <th>budget</th>\n",
       "      <th>popularity</th>\n",
       "      <th>production_companies</th>\n",
       "      <th>production_countries</th>\n",
       "      <th>revenue</th>\n",
       "      <th>runtime</th>\n",
       "      <th>vote_average</th>\n",
       "      <th>vote_count</th>\n",
       "    </tr>\n",
       "  </thead>\n",
       "  <tbody>\n",
       "    <tr>\n",
       "      <th>0</th>\n",
       "      <td>862</td>\n",
       "      <td>1</td>\n",
       "      <td>Toy Story</td>\n",
       "      <td>[{'id': 16, 'name': 'Animation'}, {'id': 12, '...</td>\n",
       "      <td>Led by Woody, Andy's toys live happily in his ...</td>\n",
       "      <td>en</td>\n",
       "      <td>30000000</td>\n",
       "      <td>93.313</td>\n",
       "      <td>[{'id': 3, 'logo_path': '/1TjvGVDMYsj6JBxOAkUH...</td>\n",
       "      <td>[{'iso_3166_1': 'US', 'name': 'United States o...</td>\n",
       "      <td>373554033</td>\n",
       "      <td>81</td>\n",
       "      <td>7.9</td>\n",
       "      <td>13855</td>\n",
       "    </tr>\n",
       "    <tr>\n",
       "      <th>1</th>\n",
       "      <td>8844</td>\n",
       "      <td>2</td>\n",
       "      <td>Jumanji</td>\n",
       "      <td>[{'id': 12, 'name': 'Adventure'}, {'id': 14, '...</td>\n",
       "      <td>When siblings Judy and Peter discover an encha...</td>\n",
       "      <td>en</td>\n",
       "      <td>65000000</td>\n",
       "      <td>11.127</td>\n",
       "      <td>[{'id': 559, 'logo_path': '/eC0bWHVjnjUducyA6Y...</td>\n",
       "      <td>[{'iso_3166_1': 'US', 'name': 'United States o...</td>\n",
       "      <td>262797249</td>\n",
       "      <td>104</td>\n",
       "      <td>7.2</td>\n",
       "      <td>8108</td>\n",
       "    </tr>\n",
       "    <tr>\n",
       "      <th>2</th>\n",
       "      <td>15602</td>\n",
       "      <td>3</td>\n",
       "      <td>Grumpier Old Men</td>\n",
       "      <td>[{'id': 10749, 'name': 'Romance'}, {'id': 35, ...</td>\n",
       "      <td>A family wedding reignites the ancient feud be...</td>\n",
       "      <td>en</td>\n",
       "      <td>0</td>\n",
       "      <td>9.122</td>\n",
       "      <td>[{'id': 19464, 'logo_path': None, 'name': 'Lan...</td>\n",
       "      <td>[{'iso_3166_1': 'US', 'name': 'United States o...</td>\n",
       "      <td>0</td>\n",
       "      <td>101</td>\n",
       "      <td>6.5</td>\n",
       "      <td>242</td>\n",
       "    </tr>\n",
       "    <tr>\n",
       "      <th>3</th>\n",
       "      <td>31357</td>\n",
       "      <td>4</td>\n",
       "      <td>Waiting to Exhale</td>\n",
       "      <td>[{'id': 35, 'name': 'Comedy'}, {'id': 18, 'nam...</td>\n",
       "      <td>Cheated on, mistreated and stepped on, the wom...</td>\n",
       "      <td>en</td>\n",
       "      <td>16000000</td>\n",
       "      <td>7.614</td>\n",
       "      <td>[{'id': 25, 'logo_path': '/qZCc1lty5FzX30aOCVR...</td>\n",
       "      <td>[{'iso_3166_1': 'US', 'name': 'United States o...</td>\n",
       "      <td>81452156</td>\n",
       "      <td>127</td>\n",
       "      <td>6.4</td>\n",
       "      <td>90</td>\n",
       "    </tr>\n",
       "    <tr>\n",
       "      <th>4</th>\n",
       "      <td>11862</td>\n",
       "      <td>5</td>\n",
       "      <td>Father of the Bride Part II</td>\n",
       "      <td>[{'id': 35, 'name': 'Comedy'}]</td>\n",
       "      <td>Just when George Banks has recovered from his ...</td>\n",
       "      <td>en</td>\n",
       "      <td>0</td>\n",
       "      <td>9.890</td>\n",
       "      <td>[{'id': 9195, 'logo_path': '/ou5BUbtulr6tIt699...</td>\n",
       "      <td>[{'iso_3166_1': 'US', 'name': 'United States o...</td>\n",
       "      <td>76578911</td>\n",
       "      <td>106</td>\n",
       "      <td>6.2</td>\n",
       "      <td>484</td>\n",
       "    </tr>\n",
       "  </tbody>\n",
       "</table>\n",
       "</div>"
      ],
      "text/plain": [
       "      id movieId                        title  ... runtime vote_average vote_count\n",
       "0    862       1                    Toy Story  ...      81          7.9      13855\n",
       "1   8844       2                      Jumanji  ...     104          7.2       8108\n",
       "2  15602       3             Grumpier Old Men  ...     101          6.5        242\n",
       "3  31357       4            Waiting to Exhale  ...     127          6.4         90\n",
       "4  11862       5  Father of the Bride Part II  ...     106          6.2        484\n",
       "\n",
       "[5 rows x 14 columns]"
      ]
     },
     "execution_count": 6,
     "metadata": {
      "tags": []
     },
     "output_type": "execute_result"
    }
   ],
   "source": [
    "print('Type: ', type(movies_data))\n",
    "print('Dim: ', movies_data.shape)\n",
    "movies_data.head()"
   ]
  },
  {
   "cell_type": "code",
   "execution_count": null,
   "metadata": {
    "colab": {
     "base_uri": "https://localhost:8080/"
    },
    "id": "35rS54TpKymb",
    "outputId": "73318418-a685-434f-ce4f-f6b4e5de8671"
   },
   "outputs": [
    {
     "data": {
      "text/plain": [
       "0        False\n",
       "17840    False\n",
       "17839    False\n",
       "17838    False\n",
       "17837    False\n",
       "         ...  \n",
       "20866     True\n",
       "20658     True\n",
       "16641     True\n",
       "13302     True\n",
       "9140      True\n",
       "Length: 26759, dtype: bool"
      ]
     },
     "execution_count": 7,
     "metadata": {
      "tags": []
     },
     "output_type": "execute_result"
    }
   ],
   "source": [
    "# Check if there is any duplicated movies\n",
    "movies_data.duplicated(subset='id').sort_values()"
   ]
  },
  {
   "cell_type": "code",
   "execution_count": null,
   "metadata": {
    "colab": {
     "base_uri": "https://localhost:8080/"
    },
    "id": "bYVozdfALanF",
    "outputId": "07140d21-c508-4ed3-c7c7-17f9ba09561c"
   },
   "outputs": [
    {
     "name": "stdout",
     "output_type": "stream",
     "text": [
      "<class 'pandas.core.frame.DataFrame'>\n",
      "Int64Index: 26759 entries, 0 to 26758\n",
      "Data columns (total 14 columns):\n",
      " #   Column                Non-Null Count  Dtype  \n",
      "---  ------                --------------  -----  \n",
      " 0   id                    26759 non-null  object \n",
      " 1   movieId               26759 non-null  object \n",
      " 2   title                 26759 non-null  object \n",
      " 3   genres                26759 non-null  object \n",
      " 4   overview              26759 non-null  object \n",
      " 5   original_language     26759 non-null  object \n",
      " 6   budget                26759 non-null  object \n",
      " 7   popularity            26759 non-null  float64\n",
      " 8   production_companies  26759 non-null  object \n",
      " 9   production_countries  26759 non-null  object \n",
      " 10  revenue               26759 non-null  object \n",
      " 11  runtime               26734 non-null  object \n",
      " 12  vote_average          26759 non-null  float64\n",
      " 13  vote_count            26759 non-null  object \n",
      "dtypes: float64(2), object(12)\n",
      "memory usage: 3.1+ MB\n"
     ]
    }
   ],
   "source": [
    "# Check if there is any null values\n",
    "movies_data.info()"
   ]
  },
  {
   "cell_type": "markdown",
   "metadata": {
    "id": "uVbV-zvWTLiN"
   },
   "source": [
    "There are many movies with null values and duplicated movies, we will drop all those rows."
   ]
  },
  {
   "cell_type": "code",
   "execution_count": null,
   "metadata": {
    "colab": {
     "base_uri": "https://localhost:8080/"
    },
    "id": "CqOucV7WSdya",
    "outputId": "e7e25d29-5298-470f-ca7f-dee53b2a857d"
   },
   "outputs": [
    {
     "name": "stdout",
     "output_type": "stream",
     "text": [
      "<class 'pandas.core.frame.DataFrame'>\n",
      "Int64Index: 26717 entries, 0 to 26758\n",
      "Data columns (total 14 columns):\n",
      " #   Column                Non-Null Count  Dtype  \n",
      "---  ------                --------------  -----  \n",
      " 0   id                    26717 non-null  object \n",
      " 1   movieId               26717 non-null  object \n",
      " 2   title                 26717 non-null  object \n",
      " 3   genres                26717 non-null  object \n",
      " 4   overview              26717 non-null  object \n",
      " 5   original_language     26717 non-null  object \n",
      " 6   budget                26717 non-null  object \n",
      " 7   popularity            26717 non-null  float64\n",
      " 8   production_companies  26717 non-null  object \n",
      " 9   production_countries  26717 non-null  object \n",
      " 10  revenue               26717 non-null  object \n",
      " 11  runtime               26717 non-null  object \n",
      " 12  vote_average          26717 non-null  float64\n",
      " 13  vote_count            26717 non-null  object \n",
      "dtypes: float64(2), object(12)\n",
      "memory usage: 3.1+ MB\n"
     ]
    }
   ],
   "source": [
    "movies_data.dropna(axis=0, how='any', inplace=True)\n",
    "movies_data.drop_duplicates(subset=['id'], inplace=True)\n",
    "movies_data.info()"
   ]
  },
  {
   "cell_type": "code",
   "execution_count": null,
   "metadata": {
    "colab": {
     "base_uri": "https://localhost:8080/"
    },
    "id": "ztXECDZEdj6l",
    "outputId": "0d12b671-9ae6-4460-d9dc-39333874bc09"
   },
   "outputs": [
    {
     "data": {
      "text/plain": [
       "0        False\n",
       "17842    False\n",
       "17841    False\n",
       "17840    False\n",
       "17839    False\n",
       "         ...  \n",
       "8911     False\n",
       "8910     False\n",
       "8909     False\n",
       "8985     False\n",
       "26758    False\n",
       "Length: 26717, dtype: bool"
      ]
     },
     "execution_count": 10,
     "metadata": {
      "tags": []
     },
     "output_type": "execute_result"
    }
   ],
   "source": [
    "movies_data.duplicated(subset='id').sort_values()"
   ]
  },
  {
   "cell_type": "markdown",
   "metadata": {
    "id": "WvlZ4jifLd2_"
   },
   "source": [
    "Clean the 'messy' columns `genres`, `production_companies`, `production_countries`."
   ]
  },
  {
   "cell_type": "code",
   "execution_count": null,
   "metadata": {
    "colab": {
     "base_uri": "https://localhost:8080/",
     "height": 666
    },
    "id": "zkblIbscfWOb",
    "outputId": "e875afbc-e832-49df-e254-289b958802a8"
   },
   "outputs": [
    {
     "data": {
      "text/html": [
       "<div>\n",
       "<style scoped>\n",
       "    .dataframe tbody tr th:only-of-type {\n",
       "        vertical-align: middle;\n",
       "    }\n",
       "\n",
       "    .dataframe tbody tr th {\n",
       "        vertical-align: top;\n",
       "    }\n",
       "\n",
       "    .dataframe thead th {\n",
       "        text-align: right;\n",
       "    }\n",
       "</style>\n",
       "<table border=\"1\" class=\"dataframe\">\n",
       "  <thead>\n",
       "    <tr style=\"text-align: right;\">\n",
       "      <th></th>\n",
       "      <th>id</th>\n",
       "      <th>movieId</th>\n",
       "      <th>title</th>\n",
       "      <th>genres</th>\n",
       "      <th>overview</th>\n",
       "      <th>original_language</th>\n",
       "      <th>budget</th>\n",
       "      <th>popularity</th>\n",
       "      <th>production_companies</th>\n",
       "      <th>production_countries</th>\n",
       "      <th>revenue</th>\n",
       "      <th>runtime</th>\n",
       "      <th>vote_average</th>\n",
       "      <th>vote_count</th>\n",
       "    </tr>\n",
       "  </thead>\n",
       "  <tbody>\n",
       "    <tr>\n",
       "      <th>0</th>\n",
       "      <td>862</td>\n",
       "      <td>1</td>\n",
       "      <td>Toy Story</td>\n",
       "      <td>[{'id': 16, 'name': 'Animation'}, {'id': 12, '...</td>\n",
       "      <td>Led by Woody, Andy's toys live happily in his ...</td>\n",
       "      <td>en</td>\n",
       "      <td>30000000</td>\n",
       "      <td>93.313</td>\n",
       "      <td>[{'id': 3, 'logo_path': '/1TjvGVDMYsj6JBxOAkUH...</td>\n",
       "      <td>[{'iso_3166_1': 'US', 'name': 'United States o...</td>\n",
       "      <td>373554033</td>\n",
       "      <td>81</td>\n",
       "      <td>7.9</td>\n",
       "      <td>13855</td>\n",
       "    </tr>\n",
       "    <tr>\n",
       "      <th>1</th>\n",
       "      <td>8844</td>\n",
       "      <td>2</td>\n",
       "      <td>Jumanji</td>\n",
       "      <td>[{'id': 12, 'name': 'Adventure'}, {'id': 14, '...</td>\n",
       "      <td>When siblings Judy and Peter discover an encha...</td>\n",
       "      <td>en</td>\n",
       "      <td>65000000</td>\n",
       "      <td>11.127</td>\n",
       "      <td>[{'id': 559, 'logo_path': '/eC0bWHVjnjUducyA6Y...</td>\n",
       "      <td>[{'iso_3166_1': 'US', 'name': 'United States o...</td>\n",
       "      <td>262797249</td>\n",
       "      <td>104</td>\n",
       "      <td>7.2</td>\n",
       "      <td>8108</td>\n",
       "    </tr>\n",
       "    <tr>\n",
       "      <th>2</th>\n",
       "      <td>15602</td>\n",
       "      <td>3</td>\n",
       "      <td>Grumpier Old Men</td>\n",
       "      <td>[{'id': 10749, 'name': 'Romance'}, {'id': 35, ...</td>\n",
       "      <td>A family wedding reignites the ancient feud be...</td>\n",
       "      <td>en</td>\n",
       "      <td>0</td>\n",
       "      <td>9.122</td>\n",
       "      <td>[{'id': 19464, 'logo_path': None, 'name': 'Lan...</td>\n",
       "      <td>[{'iso_3166_1': 'US', 'name': 'United States o...</td>\n",
       "      <td>0</td>\n",
       "      <td>101</td>\n",
       "      <td>6.5</td>\n",
       "      <td>242</td>\n",
       "    </tr>\n",
       "    <tr>\n",
       "      <th>3</th>\n",
       "      <td>31357</td>\n",
       "      <td>4</td>\n",
       "      <td>Waiting to Exhale</td>\n",
       "      <td>[{'id': 35, 'name': 'Comedy'}, {'id': 18, 'nam...</td>\n",
       "      <td>Cheated on, mistreated and stepped on, the wom...</td>\n",
       "      <td>en</td>\n",
       "      <td>16000000</td>\n",
       "      <td>7.614</td>\n",
       "      <td>[{'id': 25, 'logo_path': '/qZCc1lty5FzX30aOCVR...</td>\n",
       "      <td>[{'iso_3166_1': 'US', 'name': 'United States o...</td>\n",
       "      <td>81452156</td>\n",
       "      <td>127</td>\n",
       "      <td>6.4</td>\n",
       "      <td>90</td>\n",
       "    </tr>\n",
       "    <tr>\n",
       "      <th>4</th>\n",
       "      <td>11862</td>\n",
       "      <td>5</td>\n",
       "      <td>Father of the Bride Part II</td>\n",
       "      <td>[{'id': 35, 'name': 'Comedy'}]</td>\n",
       "      <td>Just when George Banks has recovered from his ...</td>\n",
       "      <td>en</td>\n",
       "      <td>0</td>\n",
       "      <td>9.890</td>\n",
       "      <td>[{'id': 9195, 'logo_path': '/ou5BUbtulr6tIt699...</td>\n",
       "      <td>[{'iso_3166_1': 'US', 'name': 'United States o...</td>\n",
       "      <td>76578911</td>\n",
       "      <td>106</td>\n",
       "      <td>6.2</td>\n",
       "      <td>484</td>\n",
       "    </tr>\n",
       "  </tbody>\n",
       "</table>\n",
       "</div>"
      ],
      "text/plain": [
       "      id movieId                        title  ... runtime vote_average vote_count\n",
       "0    862       1                    Toy Story  ...      81          7.9      13855\n",
       "1   8844       2                      Jumanji  ...     104          7.2       8108\n",
       "2  15602       3             Grumpier Old Men  ...     101          6.5        242\n",
       "3  31357       4            Waiting to Exhale  ...     127          6.4         90\n",
       "4  11862       5  Father of the Bride Part II  ...     106          6.2        484\n",
       "\n",
       "[5 rows x 14 columns]"
      ]
     },
     "execution_count": 12,
     "metadata": {
      "tags": []
     },
     "output_type": "execute_result"
    }
   ],
   "source": [
    "movies_data.head()"
   ]
  },
  {
   "cell_type": "code",
   "execution_count": null,
   "metadata": {
    "colab": {
     "base_uri": "https://localhost:8080/"
    },
    "id": "aqYWFRCTfnYB",
    "outputId": "117db3be-a8b0-4706-d5d4-97da59ea8295"
   },
   "outputs": [
    {
     "data": {
      "text/plain": [
       "[{'id': 16, 'name': 'Animation'},\n",
       " {'id': 12, 'name': 'Adventure'},\n",
       " {'id': 10751, 'name': 'Family'},\n",
       " {'id': 35, 'name': 'Comedy'}]"
      ]
     },
     "execution_count": 13,
     "metadata": {
      "tags": []
     },
     "output_type": "execute_result"
    }
   ],
   "source": [
    "movies_data['genres'][0]"
   ]
  },
  {
   "cell_type": "code",
   "execution_count": null,
   "metadata": {
    "id": "fw2G1t4efuov"
   },
   "outputs": [],
   "source": [
    "# function to modify each data cell with a list of names\n",
    "def cleanColumn(var):\n",
    "  var_list = []\n",
    "  for genres in movies_data[var]:\n",
    "    lst = []\n",
    "    for genre in genres:\n",
    "      lst.append(genre['name'])\n",
    "    var_list.append(lst)\n",
    "  movies_data[var] = var_list\n",
    "\n",
    "cleanColumn('genres')\n",
    "cleanColumn('production_companies')\n",
    "cleanColumn('production_countries')"
   ]
  },
  {
   "cell_type": "code",
   "execution_count": null,
   "metadata": {
    "colab": {
     "base_uri": "https://localhost:8080/",
     "height": 666
    },
    "id": "wRCn70Hif_lw",
    "outputId": "5c8075fc-3e68-44c7-a54e-c1b3cf6a13eb"
   },
   "outputs": [
    {
     "data": {
      "text/html": [
       "<div>\n",
       "<style scoped>\n",
       "    .dataframe tbody tr th:only-of-type {\n",
       "        vertical-align: middle;\n",
       "    }\n",
       "\n",
       "    .dataframe tbody tr th {\n",
       "        vertical-align: top;\n",
       "    }\n",
       "\n",
       "    .dataframe thead th {\n",
       "        text-align: right;\n",
       "    }\n",
       "</style>\n",
       "<table border=\"1\" class=\"dataframe\">\n",
       "  <thead>\n",
       "    <tr style=\"text-align: right;\">\n",
       "      <th></th>\n",
       "      <th>id</th>\n",
       "      <th>movieId</th>\n",
       "      <th>title</th>\n",
       "      <th>genres</th>\n",
       "      <th>overview</th>\n",
       "      <th>original_language</th>\n",
       "      <th>budget</th>\n",
       "      <th>popularity</th>\n",
       "      <th>production_companies</th>\n",
       "      <th>production_countries</th>\n",
       "      <th>revenue</th>\n",
       "      <th>runtime</th>\n",
       "      <th>vote_average</th>\n",
       "      <th>vote_count</th>\n",
       "    </tr>\n",
       "  </thead>\n",
       "  <tbody>\n",
       "    <tr>\n",
       "      <th>0</th>\n",
       "      <td>862</td>\n",
       "      <td>1</td>\n",
       "      <td>Toy Story</td>\n",
       "      <td>[Animation, Adventure, Family, Comedy]</td>\n",
       "      <td>Led by Woody, Andy's toys live happily in his ...</td>\n",
       "      <td>en</td>\n",
       "      <td>30000000</td>\n",
       "      <td>93.313</td>\n",
       "      <td>[Pixar]</td>\n",
       "      <td>[United States of America]</td>\n",
       "      <td>373554033</td>\n",
       "      <td>81</td>\n",
       "      <td>7.9</td>\n",
       "      <td>13855</td>\n",
       "    </tr>\n",
       "    <tr>\n",
       "      <th>1</th>\n",
       "      <td>8844</td>\n",
       "      <td>2</td>\n",
       "      <td>Jumanji</td>\n",
       "      <td>[Adventure, Fantasy, Family]</td>\n",
       "      <td>When siblings Judy and Peter discover an encha...</td>\n",
       "      <td>en</td>\n",
       "      <td>65000000</td>\n",
       "      <td>11.127</td>\n",
       "      <td>[TriStar Pictures, Interscope Communications, ...</td>\n",
       "      <td>[United States of America]</td>\n",
       "      <td>262797249</td>\n",
       "      <td>104</td>\n",
       "      <td>7.2</td>\n",
       "      <td>8108</td>\n",
       "    </tr>\n",
       "    <tr>\n",
       "      <th>2</th>\n",
       "      <td>15602</td>\n",
       "      <td>3</td>\n",
       "      <td>Grumpier Old Men</td>\n",
       "      <td>[Romance, Comedy]</td>\n",
       "      <td>A family wedding reignites the ancient feud be...</td>\n",
       "      <td>en</td>\n",
       "      <td>0</td>\n",
       "      <td>9.122</td>\n",
       "      <td>[Lancaster Gate, Warner Bros. Pictures]</td>\n",
       "      <td>[United States of America]</td>\n",
       "      <td>0</td>\n",
       "      <td>101</td>\n",
       "      <td>6.5</td>\n",
       "      <td>242</td>\n",
       "    </tr>\n",
       "    <tr>\n",
       "      <th>3</th>\n",
       "      <td>31357</td>\n",
       "      <td>4</td>\n",
       "      <td>Waiting to Exhale</td>\n",
       "      <td>[Comedy, Drama, Romance]</td>\n",
       "      <td>Cheated on, mistreated and stepped on, the wom...</td>\n",
       "      <td>en</td>\n",
       "      <td>16000000</td>\n",
       "      <td>7.614</td>\n",
       "      <td>[20th Century Fox]</td>\n",
       "      <td>[United States of America]</td>\n",
       "      <td>81452156</td>\n",
       "      <td>127</td>\n",
       "      <td>6.4</td>\n",
       "      <td>90</td>\n",
       "    </tr>\n",
       "    <tr>\n",
       "      <th>4</th>\n",
       "      <td>11862</td>\n",
       "      <td>5</td>\n",
       "      <td>Father of the Bride Part II</td>\n",
       "      <td>[Comedy]</td>\n",
       "      <td>Just when George Banks has recovered from his ...</td>\n",
       "      <td>en</td>\n",
       "      <td>0</td>\n",
       "      <td>9.890</td>\n",
       "      <td>[Touchstone Pictures, Sandollar Productions]</td>\n",
       "      <td>[United States of America]</td>\n",
       "      <td>76578911</td>\n",
       "      <td>106</td>\n",
       "      <td>6.2</td>\n",
       "      <td>484</td>\n",
       "    </tr>\n",
       "  </tbody>\n",
       "</table>\n",
       "</div>"
      ],
      "text/plain": [
       "      id movieId                        title  ... runtime vote_average vote_count\n",
       "0    862       1                    Toy Story  ...      81          7.9      13855\n",
       "1   8844       2                      Jumanji  ...     104          7.2       8108\n",
       "2  15602       3             Grumpier Old Men  ...     101          6.5        242\n",
       "3  31357       4            Waiting to Exhale  ...     127          6.4         90\n",
       "4  11862       5  Father of the Bride Part II  ...     106          6.2        484\n",
       "\n",
       "[5 rows x 14 columns]"
      ]
     },
     "execution_count": 16,
     "metadata": {
      "tags": []
     },
     "output_type": "execute_result"
    }
   ],
   "source": [
    "movies_data.head()"
   ]
  },
  {
   "cell_type": "markdown",
   "metadata": {
    "id": "cC-Q4EUC3gT5"
   },
   "source": [
    "**Now**, there is a dataframe \"movies_data\" contains nearly 27,000 unique movies. We will export it into a csv file for future use in another notebook."
   ]
  },
  {
   "cell_type": "code",
   "execution_count": null,
   "metadata": {
    "id": "0kvKEmZtqpxg"
   },
   "outputs": [],
   "source": [
    "movies_data.to_csv('movies.csv', index=False)"
   ]
  },
  {
   "cell_type": "code",
   "execution_count": null,
   "metadata": {
    "id": "UCa7RyL-g6yM"
   },
   "outputs": [],
   "source": []
  }
 ],
 "metadata": {
  "colab": {
   "name": "Data Preparation",
   "provenance": []
  },
  "kernelspec": {
   "display_name": "Python 3",
   "language": "python",
   "name": "python3"
  },
  "language_info": {
   "codemirror_mode": {
    "name": "ipython",
    "version": 3
   },
   "file_extension": ".py",
   "mimetype": "text/x-python",
   "name": "python",
   "nbconvert_exporter": "python",
   "pygments_lexer": "ipython3",
   "version": "3.8.5"
  }
 },
 "nbformat": 4,
 "nbformat_minor": 1
}
